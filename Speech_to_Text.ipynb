{
 "cells": [
  {
   "cell_type": "markdown",
   "metadata": {},
   "source": [
    "# Speech to Text\n",
    "\n",
    "Rebuilding speech conversations, with the time offset values for audio transcribed by Speech-to-Text, using Python."
   ]
  },
  {
   "cell_type": "code",
   "execution_count": 1,
   "metadata": {},
   "outputs": [],
   "source": [
    "# The libraries needed for this project\n",
    "import pandas as pd\n",
    "import json"
   ]
  },
  {
   "cell_type": "code",
   "execution_count": 2,
   "metadata": {},
   "outputs": [],
   "source": [
    "# Opening JSON file\n",
    "f = open('data/speechToText.json')\n",
    "  \n",
    "# returns JSON object as \n",
    "# a dictionary\n",
    "data = json.load(f)\n",
    "  \n",
    "# Closing file\n",
    "f.close()"
   ]
  },
  {
   "cell_type": "code",
   "execution_count": 3,
   "metadata": {},
   "outputs": [],
   "source": [
    "#  For loop to get the words and timestamp into a list called timeList\n",
    "\n",
    "timeList = []\n",
    "\n",
    "for num in range(0, 140):\n",
    "    line_list = []\n",
    "    line_list = data[\"results\"][0][\"alternatives\"][0][\"timestamps\"][num]\n",
    "    timeList.append(line_list)"
   ]
  },
  {
   "cell_type": "code",
   "execution_count": 4,
   "metadata": {},
   "outputs": [],
   "source": [
    "# timeList"
   ]
  },
  {
   "cell_type": "code",
   "execution_count": 5,
   "metadata": {},
   "outputs": [],
   "source": [
    "# For loop to get the speaker number and time stamps into a list called speakerList\n",
    "\n",
    "speakerList = []\n",
    "\n",
    "for num in range(0, 140):\n",
    "    line_list = []\n",
    "    line_list = data[\"speaker_labels\"][num]\n",
    "    speakerList.append(line_list)"
   ]
  },
  {
   "cell_type": "code",
   "execution_count": 6,
   "metadata": {},
   "outputs": [],
   "source": [
    "# speakerList"
   ]
  },
  {
   "cell_type": "code",
   "execution_count": 7,
   "metadata": {},
   "outputs": [],
   "source": [
    "# For loop to get the speaker, start time and stop time details\n",
    "speaker_N_time = [[\"speaker\", \"timeStart\", \"timeStop\"]]\n",
    "\n",
    "for num in range(0, 140):\n",
    "    speaker_N_time.append([speakerList[num][\"speaker\"], speakerList[num][\"from\"], speakerList[num][\"to\"]])"
   ]
  },
  {
   "cell_type": "code",
   "execution_count": 8,
   "metadata": {},
   "outputs": [],
   "source": [
    "# Reconstruct conversation\n",
    "# For loop to compare if the speakers start and stop time, is equal to the start and stop time of any time stamps in the timeList,\n",
    "# in order to join the speakers and their sentences together.\n",
    "\n",
    "conversation = [[\"speaker\", \"line\"]]\n",
    "conversation_line = 0\n",
    "last_speaker = []\n",
    "\n",
    "\n",
    "for num in range(1, 141):\n",
    "    speaker = speaker_N_time[num][0]\n",
    "    # compare is the current speaker is the same as the last, to join words together\n",
    "    if speaker == last_speaker:\n",
    "        for num2 in range(0, 140):\n",
    "            # compares and matches similiar timestamps\n",
    "            if [speaker_N_time[num][1], speaker_N_time[num][2]] == [timeList[num2][1], timeList[num2][2]]:\n",
    "                last_speaker = speaker\n",
    "                # appends the new word to the current speakers list\n",
    "                conversation[conversation_line].append(timeList[num2][0])\n",
    "    else:\n",
    "        for num2 in range(0, 140):\n",
    "            if [speaker_N_time[num][1], speaker_N_time[num][2]] == [timeList[num2][1], timeList[num2][2]]:\n",
    "                last_speaker = speaker\n",
    "                # creates a new list in the list for the new speaker, and appends the first word to the list\n",
    "                conversation.append([last_speaker, timeList[num2][0]])\n",
    "                conversation_line += 1"
   ]
  },
  {
   "cell_type": "code",
   "execution_count": 9,
   "metadata": {},
   "outputs": [
    {
     "data": {
      "text/plain": [
       "['speaker', 'line']"
      ]
     },
     "execution_count": 9,
     "metadata": {},
     "output_type": "execute_result"
    }
   ],
   "source": [
    "# pop function to delete the first line of the conversation list\n",
    "conversation.pop(0)"
   ]
  },
  {
   "cell_type": "code",
   "execution_count": 10,
   "metadata": {},
   "outputs": [
    {
     "name": "stdout",
     "output_type": "stream",
     "text": [
      "[0, 'so', 'thank', 'you', 'very', 'much', 'for', 'coming', 'David', \"it's\", 'good', 'to', 'have', 'you', 'here']\n",
      "[1, 'good', 'as', 'my', 'pleasure', 'Michael', 'glad', 'to', 'be', 'with', 'you']\n",
      "[0, 'how', 'real', 'is', 'artificial', 'intelligence']\n",
      "[1, 'the', 'question', 'of', 'how', 'real', 'is', 'artificial', 'intelligence', 'is', 'a', 'complex', 'one']\n",
      "[0, 'on']\n",
      "[1, 'I', 'would', 'say', '%HESITATION', 'if', 'if', 'we', 'define', 'artificial', 'intelligence', 'is', 'the', 'ability', 'of', 'a', 'machine', 'on', 'its', 'own', 'to', 'understand', 'large', 'volumes', 'of', 'data', 'to', 'reason', 'that', 'data', 'with', 'a', 'purpose', 'to', 'it', 'to', 'predict', 'the', 'future', 'and', 'then', 'tell', 'you', 'continue', 'to', 'learn', 'and', 'get', 'better']\n",
      "[0, 'that']\n",
      "[1, 'is', 'happening', 'today', 'in', 'certain', 'fields']\n",
      "[0, 'how', 'far', 'in', 'the', 'continuum', 'is', 'IBM', 'Watson', 'in', 'operability', 'artificial', 'intelligence']\n",
      "[1, 'yes', 'so', 'so', 'first', 'of', 'all', 'once', 'once', \"it's\", 'actually', 'intelligent', 'it', 'will', 'no', 'longer', 'be', 'artificial', 'so', \"we're\", 'moving', 'to', 'the', 'point', 'that', 'these', 'systems', 'increasingly', 'understand', 'enormous', 'volumes', 'of']\n"
     ]
    }
   ],
   "source": [
    "# for loop to print the sentences joined thus far\n",
    "for item in conversation:\n",
    "    print(item)"
   ]
  },
  {
   "cell_type": "code",
   "execution_count": 11,
   "metadata": {},
   "outputs": [
    {
     "name": "stdout",
     "output_type": "stream",
     "text": [
      "Speaker 0: so thank you very much for coming David it's good to have you here\n",
      "Speaker 1: good as my pleasure Michael glad to be with you\n",
      "Speaker 0: how real is artificial intelligence\n",
      "Speaker 1: the question of how real is artificial intelligence is a complex one\n",
      "Speaker 0: on\n",
      "Speaker 1: I would say %HESITATION if if we define artificial intelligence is the ability of a machine on its own to understand large volumes of data to reason that data with a purpose to it to predict the future and then tell you continue to learn and get better\n",
      "Speaker 0: that\n",
      "Speaker 1: is happening today in certain fields\n",
      "Speaker 0: how far in the continuum is IBM Watson in operability artificial intelligence\n",
      "Speaker 1: yes so so first of all once once it's actually intelligent it will no longer be artificial so we're moving to the point that these systems increasingly understand enormous volumes of\n"
     ]
    }
   ],
   "source": [
    "# Construct sentences, Function to convert the broken words into sentences, using the join function\n",
    "sentences = []\n",
    "# sentence = \"\"\n",
    "for item in conversation:\n",
    "    speaker = item[0]\n",
    "    # deletes the speaker number from the list\n",
    "    del item[0]\n",
    "    # joins the speakers words into one sentencce\n",
    "    sentence = \" \".join(item)\n",
    "    # prints out all sentences\n",
    "    print(f\"Speaker {speaker}: {sentence}\")"
   ]
  },
  {
   "cell_type": "code",
   "execution_count": null,
   "metadata": {},
   "outputs": [],
   "source": []
  }
 ],
 "metadata": {
  "kernelspec": {
   "display_name": "Python 3 (ipykernel)",
   "language": "python",
   "name": "python3"
  },
  "language_info": {
   "codemirror_mode": {
    "name": "ipython",
    "version": 3
   },
   "file_extension": ".py",
   "mimetype": "text/x-python",
   "name": "python",
   "nbconvert_exporter": "python",
   "pygments_lexer": "ipython3",
   "version": "3.8.5"
  }
 },
 "nbformat": 4,
 "nbformat_minor": 4
}
